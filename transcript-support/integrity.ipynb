{
 "cells": [
  {
   "cell_type": "code",
   "execution_count": 1,
   "metadata": {
    "collapsed": true
   },
   "outputs": [],
   "source": [
    "%matplotlib inline\n",
    "import numpy\n",
    "import pandas\n",
    "import seaborn\n",
    "import matplotlib\n",
    "from matplotlib import pyplot as plt\n",
    "\n",
    "matplotlib.style.use('ggplot')\n",
    "seaborn.set_context({\"figure.figsize\": (12, 8)})\n",
    "matplotlib.rcParams['axes.labelsize'] = 16\n",
    "matplotlib.rcParams['xtick.labelsize'] = 12\n",
    "matplotlib.rcParams['ytick.labelsize'] = 12"
   ]
  },
  {
   "cell_type": "code",
   "execution_count": 2,
   "metadata": {},
   "outputs": [
    {
     "data": {
      "text/html": [
       "<div>\n",
       "<table border=\"1\" class=\"dataframe\">\n",
       "  <thead>\n",
       "    <tr style=\"text-align: right;\">\n",
       "      <th></th>\n",
       "      <th>ID</th>\n",
       "      <th>Label</th>\n",
       "      <th>Coverage</th>\n",
       "      <th>Integrity</th>\n",
       "    </tr>\n",
       "  </thead>\n",
       "  <tbody>\n",
       "    <tr>\n",
       "      <th>0</th>\n",
       "      <td>mRNA1</td>\n",
       "      <td>XM_015316566.1</td>\n",
       "      <td>0.110</td>\n",
       "      <td>0.183</td>\n",
       "    </tr>\n",
       "    <tr>\n",
       "      <th>1</th>\n",
       "      <td>mRNA2</td>\n",
       "      <td>XM_015316593.1</td>\n",
       "      <td>0.077</td>\n",
       "      <td>0.084</td>\n",
       "    </tr>\n",
       "    <tr>\n",
       "      <th>2</th>\n",
       "      <td>mRNA3</td>\n",
       "      <td>XM_015316630.1</td>\n",
       "      <td>0.074</td>\n",
       "      <td>0.088</td>\n",
       "    </tr>\n",
       "    <tr>\n",
       "      <th>3</th>\n",
       "      <td>mRNA4</td>\n",
       "      <td>XM_015316625.1</td>\n",
       "      <td>0.047</td>\n",
       "      <td>0.080</td>\n",
       "    </tr>\n",
       "    <tr>\n",
       "      <th>4</th>\n",
       "      <td>mRNA5</td>\n",
       "      <td>XM_015316575.1</td>\n",
       "      <td>0.140</td>\n",
       "      <td>0.107</td>\n",
       "    </tr>\n",
       "  </tbody>\n",
       "</table>\n",
       "</div>"
      ],
      "text/plain": [
       "      ID           Label  Coverage  Integrity\n",
       "0  mRNA1  XM_015316566.1     0.110      0.183\n",
       "1  mRNA2  XM_015316593.1     0.077      0.084\n",
       "2  mRNA3  XM_015316630.1     0.074      0.088\n",
       "3  mRNA4  XM_015316625.1     0.047      0.080\n",
       "4  mRNA5  XM_015316575.1     0.140      0.107"
      ]
     },
     "execution_count": 2,
     "metadata": {},
     "output_type": "execute_result"
    }
   ],
   "source": [
    "integrity = pandas.read_table('pdom-vs-pdom-gaeval.tsv')\n",
    "integrity.head()"
   ]
  },
  {
   "cell_type": "code",
   "execution_count": 23,
   "metadata": {},
   "outputs": [
    {
     "data": {
      "image/png": "[encoded data removed]",
      "text/plain": [
       "<matplotlib.figure.Figure at 0x7fb935952b70>"
      ]
     },
     "metadata": {},
     "output_type": "display_data"
    }
   ],
   "source": [
    "_ = integrity['Integrity'].hist(bins=35, color='navy', edgecolor='white')\n",
    "_ = plt.xlabel('GAEVAL Integrity Score')\n",
    "_ = plt.ylabel('Frequency')"
   ]
  },
  {
   "cell_type": "code",
   "execution_count": 19,
   "metadata": {},
   "outputs": [
    {
     "name": "stdout",
     "output_type": "stream",
     "text": [
      "Total 20835\n",
      "High 5835 0.28005759539236863\n",
      "Medium 7545 0.3621310295176386\n",
      "Low 7455 0.3578113750899928\n",
      "High + medium 13380 0.6421886249100072\n",
      "Drop 15502 0.7440364770818334\n"
     ]
    }
   ],
   "source": [
    "total = len(integrity)\n",
    "high = len(integrity[integrity['Integrity'] > 0.9])\n",
    "medium = len(integrity[(integrity['Integrity'] <= 0.9) & (integrity['Integrity'] > 0.7)])\n",
    "low = len(integrity[integrity['Integrity'] <= 0.7])\n",
    "drop = len(integrity[integrity['Integrity'] > 0.6])\n",
    "\n",
    "print('Total', total)\n",
    "print('High', high, high / total)\n",
    "print('Medium', medium, medium / total)\n",
    "print('Low', low, low / total)\n",
    "print('High + medium', high + medium, (high + medium) / total)\n",
    "print('Drop', drop, drop / total)"
   ]
  },
  {
   "cell_type": "code",
   "execution_count": 10,
   "metadata": {},
   "outputs": [
    {
     "data": {
      "text/plain": [
       "20835"
      ]
     },
     "execution_count": 10,
     "metadata": {},
     "output_type": "execute_result"
    }
   ],
   "source": [
    "5835 + 9667 + 5333"
   ]
  },
  {
   "cell_type": "code",
   "execution_count": null,
   "metadata": {
    "collapsed": true
   },
   "outputs": [],
   "source": []
  }
 ],
 "metadata": {
  "kernelspec": {
   "display_name": "Python 3",
   "language": "python",
   "name": "python3"
  },
  "language_info": {
   "codemirror_mode": {
    "name": "ipython",
    "version": 3
   },
   "file_extension": ".py",
   "mimetype": "text/x-python",
   "name": "python",
   "nbconvert_exporter": "python",
   "pygments_lexer": "ipython3",
   "version": "3.5.3"
  }
 },
 "nbformat": 4,
 "nbformat_minor": 2
}
