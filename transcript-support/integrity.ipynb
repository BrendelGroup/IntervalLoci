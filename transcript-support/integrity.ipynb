{
 "cells": [
  {
   "cell_type": "code",
   "execution_count": 1,
   "metadata": {},
   "outputs": [],
   "source": [
    "%matplotlib inline\n",
    "import numpy\n",
    "import pandas\n",
    "import seaborn\n",
    "import matplotlib\n",
    "from matplotlib import pyplot as plt\n",
    "\n",
    "matplotlib.style.use('ggplot')\n",
    "seaborn.set_context({\"figure.figsize\": (12, 8)})\n",
    "matplotlib.rcParams['axes.labelsize'] = 16\n",
    "matplotlib.rcParams['xtick.labelsize'] = 12\n",
    "matplotlib.rcParams['ytick.labelsize'] = 12"
   ]
  },
  {
   "cell_type": "markdown",
   "metadata": {},
   "source": [
    "See `README.md` and `workflow.sh` for a description of the workflow that generated the integrity data."
   ]
  },
  {
   "cell_type": "code",
   "execution_count": 2,
   "metadata": {},
   "outputs": [
    {
     "data": {
      "text/html": [
       "<div>\n",
       "<style>\n",
       "    .dataframe thead tr:only-child th {\n",
       "        text-align: right;\n",
       "    }\n",
       "\n",
       "    .dataframe thead th {\n",
       "        text-align: left;\n",
       "    }\n",
       "\n",
       "    .dataframe tbody tr th {\n",
       "        vertical-align: top;\n",
       "    }\n",
       "</style>\n",
       "<table border=\"1\" class=\"dataframe\">\n",
       "  <thead>\n",
       "    <tr style=\"text-align: right;\">\n",
       "      <th></th>\n",
       "      <th>ID</th>\n",
       "      <th>Label</th>\n",
       "      <th>Integrity</th>\n",
       "      <th>Coverage</th>\n",
       "      <th>NumIntrons</th>\n",
       "      <th>A</th>\n",
       "      <th>B</th>\n",
       "      <th>Γ</th>\n",
       "      <th>E</th>\n",
       "    </tr>\n",
       "  </thead>\n",
       "  <tbody>\n",
       "    <tr>\n",
       "      <th>0</th>\n",
       "      <td>mRNA1</td>\n",
       "      <td>XM_015316566.1</td>\n",
       "      <td>0.183</td>\n",
       "      <td>0.110</td>\n",
       "      <td>6</td>\n",
       "      <td>0.167</td>\n",
       "      <td>0.110</td>\n",
       "      <td>0.690</td>\n",
       "      <td>0.31</td>\n",
       "    </tr>\n",
       "    <tr>\n",
       "      <th>1</th>\n",
       "      <td>mRNA2</td>\n",
       "      <td>XM_015316593.1</td>\n",
       "      <td>0.084</td>\n",
       "      <td>0.077</td>\n",
       "      <td>4</td>\n",
       "      <td>0.000</td>\n",
       "      <td>0.077</td>\n",
       "      <td>0.915</td>\n",
       "      <td>0.31</td>\n",
       "    </tr>\n",
       "    <tr>\n",
       "      <th>2</th>\n",
       "      <td>mRNA3</td>\n",
       "      <td>XM_015316630.1</td>\n",
       "      <td>0.088</td>\n",
       "      <td>0.074</td>\n",
       "      <td>4</td>\n",
       "      <td>0.000</td>\n",
       "      <td>0.074</td>\n",
       "      <td>1.000</td>\n",
       "      <td>0.31</td>\n",
       "    </tr>\n",
       "    <tr>\n",
       "      <th>3</th>\n",
       "      <td>mRNA4</td>\n",
       "      <td>XM_015316625.1</td>\n",
       "      <td>0.080</td>\n",
       "      <td>0.047</td>\n",
       "      <td>4</td>\n",
       "      <td>0.000</td>\n",
       "      <td>0.047</td>\n",
       "      <td>1.000</td>\n",
       "      <td>0.31</td>\n",
       "    </tr>\n",
       "    <tr>\n",
       "      <th>4</th>\n",
       "      <td>mRNA5</td>\n",
       "      <td>XM_015316575.1</td>\n",
       "      <td>0.107</td>\n",
       "      <td>0.140</td>\n",
       "      <td>4</td>\n",
       "      <td>0.000</td>\n",
       "      <td>0.140</td>\n",
       "      <td>1.000</td>\n",
       "      <td>0.31</td>\n",
       "    </tr>\n",
       "  </tbody>\n",
       "</table>\n",
       "</div>"
      ],
      "text/plain": [
       "      ID           Label  Integrity  Coverage  NumIntrons      A      B  \\\n",
       "0  mRNA1  XM_015316566.1      0.183     0.110           6  0.167  0.110   \n",
       "1  mRNA2  XM_015316593.1      0.084     0.077           4  0.000  0.077   \n",
       "2  mRNA3  XM_015316630.1      0.088     0.074           4  0.000  0.074   \n",
       "3  mRNA4  XM_015316625.1      0.080     0.047           4  0.000  0.047   \n",
       "4  mRNA5  XM_015316575.1      0.107     0.140           4  0.000  0.140   \n",
       "\n",
       "       Γ     E  \n",
       "0  0.690  0.31  \n",
       "1  0.915  0.31  \n",
       "2  1.000  0.31  \n",
       "3  1.000  0.31  \n",
       "4  1.000  0.31  "
      ]
     },
     "execution_count": 2,
     "metadata": {},
     "output_type": "execute_result"
    }
   ],
   "source": [
    "integrity = pandas.read_table('pdom-vs-pdom-gaeval.tsv')\n",
    "integrity.head()"
   ]
  },
  {
   "cell_type": "code",
   "execution_count": 3,
   "metadata": {},
   "outputs": [
    {
     "data": {
      "image/png": "[encoded data removed]",
      "text/plain": [
       "<matplotlib.figure.Figure at 0x7f473ee33be0>"
      ]
     },
     "metadata": {},
     "output_type": "display_data"
    }
   ],
   "source": [
    "_ = integrity['Integrity'].hist(bins=35, color='navy', edgecolor='white')\n",
    "_ = plt.xlabel('GAEVAL Integrity Score')\n",
    "_ = plt.ylabel('Frequency')"
   ]
  },
  {
   "cell_type": "code",
   "execution_count": 4,
   "metadata": {},
   "outputs": [
    {
     "name": "stdout",
     "output_type": "stream",
     "text": [
      "Total isoforms: 20835\n",
      "High integrity: 5835 (28.006%)\n",
      "Integrity above the 0.6 drop: {:d} ({:.3f}%) 15502 74.40364770818334\n"
     ]
    }
   ],
   "source": [
    "total = len(integrity)\n",
    "high_integrity = len(integrity[integrity['Integrity'] > 0.9])\n",
    "#medium_integrity = len(integrity[(integrity['Integrity'] <= 0.9) & (integrity['Integrity'] > 0.6)])\n",
    "integrity_above_drop = len(integrity[integrity['Integrity'] > 0.6])\n",
    "\n",
    "print('Total isoforms:', total)\n",
    "print('High integrity: {:d} ({:.3f}%)'.format(high_integrity, high_integrity / total * 100))\n",
    "print('Integrity above the 0.6 drop: {:d} ({:.3f}%)'.format(integrity_above_drop, integrity_above_drop / total * 100)"
   ]
  }
 ],
 "metadata": {
  "kernelspec": {
   "display_name": "Python 3",
   "language": "python",
   "name": "python3"
  },
  "language_info": {
   "codemirror_mode": {
    "name": "ipython",
    "version": 3
   },
   "file_extension": ".py",
   "mimetype": "text/x-python",
   "name": "python",
   "nbconvert_exporter": "python",
   "pygments_lexer": "ipython3",
   "version": "3.6.2"
  }
 },
 "nbformat": 4,
 "nbformat_minor": 2
}
